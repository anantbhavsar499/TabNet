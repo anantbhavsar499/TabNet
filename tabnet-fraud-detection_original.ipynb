{
 "cells": [
  {
   "cell_type": "code",
   "execution_count": 1,
   "metadata": {
    "collapsed": true,
    "execution": {
     "iopub.execute_input": "2020-12-03T14:20:23.198064Z",
     "iopub.status.busy": "2020-12-03T14:20:23.197201Z",
     "iopub.status.idle": "2020-12-03T14:20:34.031100Z",
     "shell.execute_reply": "2020-12-03T14:20:34.030396Z"
    },
    "papermill": {
     "duration": 10.857723,
     "end_time": "2020-12-03T14:20:34.031357",
     "exception": false,
     "start_time": "2020-12-03T14:20:23.173634",
     "status": "completed"
    },
    "tags": []
   },
   "outputs": [
    {
     "name": "stdout",
     "output_type": "stream",
     "text": [
      "Collecting pytorch-tabnet\r\n",
      "  Downloading pytorch_tabnet-2.0.1-py3-none-any.whl (30 kB)\r\n",
      "Requirement already satisfied: torch<2.0,>=1.2 in /opt/conda/lib/python3.7/site-packages (from pytorch-tabnet) (1.6.0)\r\n",
      "Requirement already satisfied: tqdm<5.0,>=4.36 in /opt/conda/lib/python3.7/site-packages (from pytorch-tabnet) (4.45.0)\r\n",
      "Requirement already satisfied: scikit_learn>0.21 in /opt/conda/lib/python3.7/site-packages (from pytorch-tabnet) (0.23.2)\r\n",
      "Requirement already satisfied: numpy<2.0,>=1.17 in /opt/conda/lib/python3.7/site-packages (from pytorch-tabnet) (1.18.5)\r\n",
      "Requirement already satisfied: scipy>1.4 in /opt/conda/lib/python3.7/site-packages (from pytorch-tabnet) (1.4.1)\r\n",
      "Requirement already satisfied: future in /opt/conda/lib/python3.7/site-packages (from torch<2.0,>=1.2->pytorch-tabnet) (0.18.2)\r\n",
      "Requirement already satisfied: threadpoolctl>=2.0.0 in /opt/conda/lib/python3.7/site-packages (from scikit_learn>0.21->pytorch-tabnet) (2.1.0)\r\n",
      "Requirement already satisfied: joblib>=0.11 in /opt/conda/lib/python3.7/site-packages (from scikit_learn>0.21->pytorch-tabnet) (0.14.1)\r\n",
      "Installing collected packages: pytorch-tabnet\r\n",
      "Successfully installed pytorch-tabnet-2.0.1\r\n",
      "\u001b[33mWARNING: You are using pip version 20.2.4; however, version 20.3.1 is available.\r\n",
      "You should consider upgrading via the '/opt/conda/bin/python3.7 -m pip install --upgrade pip' command.\u001b[0m\r\n"
     ]
    }
   ],
   "source": [
    "# Installing TabNet through PyTorch\n",
    "!pip install pytorch-tabnet"
   ]
  },
  {
   "cell_type": "code",
   "execution_count": 2,
   "metadata": {
    "_cell_guid": "b1076dfc-b9ad-4769-8c92-a6c4dae69d19",
    "_uuid": "8f2839f25d086af736a60e9eeb907d3b93b6e0e5",
    "execution": {
     "iopub.execute_input": "2020-12-03T14:20:34.085560Z",
     "iopub.status.busy": "2020-12-03T14:20:34.084611Z",
     "iopub.status.idle": "2020-12-03T14:20:34.090101Z",
     "shell.execute_reply": "2020-12-03T14:20:34.089556Z"
    },
    "papermill": {
     "duration": 0.031901,
     "end_time": "2020-12-03T14:20:34.090209",
     "exception": false,
     "start_time": "2020-12-03T14:20:34.058308",
     "status": "completed"
    },
    "tags": []
   },
   "outputs": [
    {
     "name": "stdout",
     "output_type": "stream",
     "text": [
      "/kaggle/input/ieee-fraud-detection/sample_submission.csv\n",
      "/kaggle/input/ieee-fraud-detection/test_identity.csv\n",
      "/kaggle/input/ieee-fraud-detection/train_identity.csv\n",
      "/kaggle/input/ieee-fraud-detection/test_transaction.csv\n",
      "/kaggle/input/ieee-fraud-detection/train_transaction.csv\n"
     ]
    }
   ],
   "source": [
    "# importing libraries\n",
    "import numpy as np\n",
    "import pandas as pd\n",
    "import os\n",
    "for dirname, _, filenames in os.walk('/kaggle/input'):\n",
    "    for filename in filenames:\n",
    "        print(os.path.join(dirname, filename))"
   ]
  },
  {
   "cell_type": "code",
   "execution_count": 3,
   "metadata": {
    "execution": {
     "iopub.execute_input": "2020-12-03T14:20:34.138313Z",
     "iopub.status.busy": "2020-12-03T14:20:34.137432Z",
     "iopub.status.idle": "2020-12-03T14:20:34.986956Z",
     "shell.execute_reply": "2020-12-03T14:20:34.986035Z"
    },
    "papermill": {
     "duration": 0.876462,
     "end_time": "2020-12-03T14:20:34.987072",
     "exception": false,
     "start_time": "2020-12-03T14:20:34.110610",
     "status": "completed"
    },
    "tags": []
   },
   "outputs": [],
   "source": [
    "# Libraries for pre-processing and evaluation\n",
    "import pandas as pd\n",
    "import numpy as np\n",
    "import matplotlib.pyplot as plt\n",
    "from sklearn.preprocessing import LabelEncoder\n",
    "from sklearn.metrics import accuracy_score\n",
    "from sklearn.metrics import mean_squared_error, roc_auc_score\n",
    "from sklearn.model_selection import KFold\n",
    "from sklearn.model_selection import cross_val_score"
   ]
  },
  {
   "cell_type": "markdown",
   "metadata": {
    "papermill": {
     "duration": 0.020218,
     "end_time": "2020-12-03T14:20:35.028214",
     "exception": false,
     "start_time": "2020-12-03T14:20:35.007996",
     "status": "completed"
    },
    "tags": []
   },
   "source": [
    "## Data loading"
   ]
  },
  {
   "cell_type": "code",
   "execution_count": 4,
   "metadata": {
    "execution": {
     "iopub.execute_input": "2020-12-03T14:20:35.074610Z",
     "iopub.status.busy": "2020-12-03T14:20:35.073983Z",
     "iopub.status.idle": "2020-12-03T14:21:07.969991Z",
     "shell.execute_reply": "2020-12-03T14:21:07.969037Z"
    },
    "papermill": {
     "duration": 32.921392,
     "end_time": "2020-12-03T14:21:07.970114",
     "exception": false,
     "start_time": "2020-12-03T14:20:35.048722",
     "status": "completed"
    },
    "tags": []
   },
   "outputs": [],
   "source": [
    "train_identity = pd.read_csv('/kaggle/input/ieee-fraud-detection/train_identity.csv')\n",
    "train_transaction = pd.read_csv('/kaggle/input/ieee-fraud-detection/train_transaction.csv')"
   ]
  },
  {
   "cell_type": "code",
   "execution_count": 5,
   "metadata": {
    "execution": {
     "iopub.execute_input": "2020-12-03T14:21:08.018058Z",
     "iopub.status.busy": "2020-12-03T14:21:08.017409Z",
     "iopub.status.idle": "2020-12-03T14:21:35.214031Z",
     "shell.execute_reply": "2020-12-03T14:21:35.213023Z"
    },
    "papermill": {
     "duration": 27.223239,
     "end_time": "2020-12-03T14:21:35.214156",
     "exception": false,
     "start_time": "2020-12-03T14:21:07.990917",
     "status": "completed"
    },
    "tags": []
   },
   "outputs": [],
   "source": [
    "test_identity = pd.read_csv('/kaggle/input/ieee-fraud-detection/test_identity.csv')\n",
    "test_transaction = pd.read_csv('/kaggle/input/ieee-fraud-detection/test_transaction.csv')"
   ]
  },
  {
   "cell_type": "code",
   "execution_count": 6,
   "metadata": {
    "execution": {
     "iopub.execute_input": "2020-12-03T14:21:35.264438Z",
     "iopub.status.busy": "2020-12-03T14:21:35.263753Z",
     "iopub.status.idle": "2020-12-03T14:21:35.268402Z",
     "shell.execute_reply": "2020-12-03T14:21:35.267809Z"
    },
    "papermill": {
     "duration": 0.032122,
     "end_time": "2020-12-03T14:21:35.268516",
     "exception": false,
     "start_time": "2020-12-03T14:21:35.236394",
     "status": "completed"
    },
    "tags": []
   },
   "outputs": [],
   "source": [
    "pd.set_option('display.max_columns', 500)\n",
    "pd.set_option('display.max_rows', 500)"
   ]
  },
  {
   "cell_type": "markdown",
   "metadata": {
    "papermill": {
     "duration": 0.020094,
     "end_time": "2020-12-03T14:21:35.311300",
     "exception": false,
     "start_time": "2020-12-03T14:21:35.291206",
     "status": "completed"
    },
    "tags": []
   },
   "source": [
    "## Feature engineering"
   ]
  },
  {
   "cell_type": "markdown",
   "metadata": {
    "papermill": {
     "duration": 0.019844,
     "end_time": "2020-12-03T14:21:35.351491",
     "exception": false,
     "start_time": "2020-12-03T14:21:35.331647",
     "status": "completed"
    },
    "tags": []
   },
   "source": [
    "# Merging transaction data with identity data"
   ]
  },
  {
   "cell_type": "code",
   "execution_count": 7,
   "metadata": {
    "execution": {
     "iopub.execute_input": "2020-12-03T14:21:35.407270Z",
     "iopub.status.busy": "2020-12-03T14:21:35.405632Z",
     "iopub.status.idle": "2020-12-03T14:21:49.359902Z",
     "shell.execute_reply": "2020-12-03T14:21:49.359362Z"
    },
    "papermill": {
     "duration": 13.988065,
     "end_time": "2020-12-03T14:21:49.360041",
     "exception": false,
     "start_time": "2020-12-03T14:21:35.371976",
     "status": "completed"
    },
    "tags": []
   },
   "outputs": [],
   "source": [
    "train = pd.merge(train_transaction,train_identity,on='TransactionID', how='left')\n",
    "test = pd.merge(test_transaction, test_identity, on='TransactionID', how='left')"
   ]
  },
  {
   "cell_type": "code",
   "execution_count": 8,
   "metadata": {
    "execution": {
     "iopub.execute_input": "2020-12-03T14:21:49.408038Z",
     "iopub.status.busy": "2020-12-03T14:21:49.407076Z",
     "iopub.status.idle": "2020-12-03T14:21:49.412469Z",
     "shell.execute_reply": "2020-12-03T14:21:49.413154Z"
    },
    "papermill": {
     "duration": 0.031975,
     "end_time": "2020-12-03T14:21:49.413311",
     "exception": false,
     "start_time": "2020-12-03T14:21:49.381336",
     "status": "completed"
    },
    "tags": []
   },
   "outputs": [
    {
     "name": "stdout",
     "output_type": "stream",
     "text": [
      "train dataset shape (590540, 434)\n",
      "test dataset shape (506691, 433)\n"
     ]
    }
   ],
   "source": [
    "print('train dataset shape', train.shape)\n",
    "print('test dataset shape', test.shape)"
   ]
  },
  {
   "cell_type": "code",
   "execution_count": 9,
   "metadata": {
    "execution": {
     "iopub.execute_input": "2020-12-03T14:21:49.536219Z",
     "iopub.status.busy": "2020-12-03T14:21:49.534101Z",
     "iopub.status.idle": "2020-12-03T14:21:49.536956Z",
     "shell.execute_reply": "2020-12-03T14:21:49.537459Z"
    },
    "papermill": {
     "duration": 0.102628,
     "end_time": "2020-12-03T14:21:49.537588",
     "exception": false,
     "start_time": "2020-12-03T14:21:49.434960",
     "status": "completed"
    },
    "tags": []
   },
   "outputs": [],
   "source": [
    "del train_identity, train_transaction, test_identity, test_transaction"
   ]
  },
  {
   "cell_type": "code",
   "execution_count": 10,
   "metadata": {
    "execution": {
     "iopub.execute_input": "2020-12-03T14:21:49.616186Z",
     "iopub.status.busy": "2020-12-03T14:21:49.614169Z",
     "iopub.status.idle": "2020-12-03T14:21:49.616880Z",
     "shell.execute_reply": "2020-12-03T14:21:49.617381Z"
    },
    "papermill": {
     "duration": 0.058817,
     "end_time": "2020-12-03T14:21:49.617503",
     "exception": false,
     "start_time": "2020-12-03T14:21:49.558686",
     "status": "completed"
    },
    "tags": []
   },
   "outputs": [],
   "source": [
    "# solving incosistent naming of columns\n",
    "\n",
    "for i in range(1,39):\n",
    "    if i < 10:\n",
    "          test.rename(columns = {\"id-0\"+str(i) : \"id_0\"+str(i)}, inplace=True)\n",
    "    else:\n",
    "          test.rename(columns = {\"id-\"+str(i) : \"id_\"+str(i)}, inplace = True)"
   ]
  },
  {
   "cell_type": "markdown",
   "metadata": {
    "papermill": {
     "duration": 0.022283,
     "end_time": "2020-12-03T14:21:49.662701",
     "exception": false,
     "start_time": "2020-12-03T14:21:49.640418",
     "status": "completed"
    },
    "tags": []
   },
   "source": [
    "### Droping columns having null values greater than 90%"
   ]
  },
  {
   "cell_type": "code",
   "execution_count": 11,
   "metadata": {
    "execution": {
     "iopub.execute_input": "2020-12-03T14:21:49.716386Z",
     "iopub.status.busy": "2020-12-03T14:21:49.715427Z",
     "iopub.status.idle": "2020-12-03T14:21:58.164876Z",
     "shell.execute_reply": "2020-12-03T14:21:58.164074Z"
    },
    "papermill": {
     "duration": 8.480301,
     "end_time": "2020-12-03T14:21:58.164989",
     "exception": false,
     "start_time": "2020-12-03T14:21:49.684688",
     "status": "completed"
    },
    "tags": []
   },
   "outputs": [],
   "source": [
    "cols_lotof_nulls = [c for c in train.columns if (train[c].isnull().sum() / train.shape[0])>0.90]\n",
    "cols_lotof_nulls_test = [c for c in test.columns if (test[c].isnull().sum() / test.shape[0])>0.90]\n",
    "\n",
    "\n",
    "cols_to_drop = list(set(cols_lotof_nulls+ cols_lotof_nulls_test))\n",
    "len(cols_to_drop)\n",
    "\n",
    "train = train.drop(cols_to_drop, axis=1)\n",
    "test = test.drop(cols_to_drop, axis=1)"
   ]
  },
  {
   "cell_type": "code",
   "execution_count": 12,
   "metadata": {
    "execution": {
     "iopub.execute_input": "2020-12-03T14:21:58.440936Z",
     "iopub.status.busy": "2020-12-03T14:21:58.291937Z",
     "iopub.status.idle": "2020-12-03T14:21:58.444421Z",
     "shell.execute_reply": "2020-12-03T14:21:58.444918Z"
    },
    "papermill": {
     "duration": 0.258145,
     "end_time": "2020-12-03T14:21:58.445089",
     "exception": false,
     "start_time": "2020-12-03T14:21:58.186944",
     "status": "completed"
    },
    "tags": []
   },
   "outputs": [
    {
     "data": {
      "text/plain": [
       "29"
      ]
     },
     "execution_count": 12,
     "metadata": {},
     "output_type": "execute_result"
    }
   ],
   "source": [
    "# taking categorical colums to give as paratmeter to TabNet classifier\n",
    "cat_cols = list(train.select_dtypes(['object']).columns)\n",
    "\n",
    "len(cat_cols)\n",
    "\n"
   ]
  },
  {
   "cell_type": "markdown",
   "metadata": {
    "papermill": {
     "duration": 0.023832,
     "end_time": "2020-12-03T14:21:58.490813",
     "exception": false,
     "start_time": "2020-12-03T14:21:58.466981",
     "status": "completed"
    },
    "tags": []
   },
   "source": [
    "## Encoding categorical variables"
   ]
  },
  {
   "cell_type": "code",
   "execution_count": 13,
   "metadata": {
    "execution": {
     "iopub.execute_input": "2020-12-03T14:21:58.544545Z",
     "iopub.status.busy": "2020-12-03T14:21:58.543474Z",
     "iopub.status.idle": "2020-12-03T14:22:59.038511Z",
     "shell.execute_reply": "2020-12-03T14:22:59.037218Z"
    },
    "papermill": {
     "duration": 60.525207,
     "end_time": "2020-12-03T14:22:59.038663",
     "exception": false,
     "start_time": "2020-12-03T14:21:58.513456",
     "status": "completed"
    },
    "tags": []
   },
   "outputs": [],
   "source": [
    "# Using Label encoder to convert categorical to numerical\n",
    "for col in cat_cols:\n",
    "  if col in train.columns:\n",
    "    le = LabelEncoder()\n",
    "    le.fit(list(train[col].astype(str).values) + list(test[col].astype(str).values))\n",
    "    train[col] = le.transform(list(train[col].astype('str').values))\n",
    "    test[col] = le.transform(list(test[col].astype('str').values))"
   ]
  },
  {
   "cell_type": "code",
   "execution_count": 14,
   "metadata": {
    "execution": {
     "iopub.execute_input": "2020-12-03T14:22:59.094664Z",
     "iopub.status.busy": "2020-12-03T14:22:59.093008Z",
     "iopub.status.idle": "2020-12-03T14:23:03.169207Z",
     "shell.execute_reply": "2020-12-03T14:23:03.168592Z"
    },
    "papermill": {
     "duration": 4.106312,
     "end_time": "2020-12-03T14:23:03.169319",
     "exception": false,
     "start_time": "2020-12-03T14:22:59.063007",
     "status": "completed"
    },
    "tags": []
   },
   "outputs": [],
   "source": [
    "# Replacing inf values if any\n",
    "train = train.replace([np.inf, -np.inf], np.nan)\n",
    "test = test.replace([np.inf, -np.inf], np.nan)"
   ]
  },
  {
   "cell_type": "code",
   "execution_count": 15,
   "metadata": {
    "execution": {
     "iopub.execute_input": "2020-12-03T14:23:03.226218Z",
     "iopub.status.busy": "2020-12-03T14:23:03.225268Z",
     "iopub.status.idle": "2020-12-03T14:23:04.402092Z",
     "shell.execute_reply": "2020-12-03T14:23:04.400895Z"
    },
    "papermill": {
     "duration": 1.209856,
     "end_time": "2020-12-03T14:23:04.402242",
     "exception": false,
     "start_time": "2020-12-03T14:23:03.192386",
     "status": "completed"
    },
    "tags": []
   },
   "outputs": [],
   "source": [
    "# Removing columns if they dont have atleast 100000 non-Nan values\n",
    "train = train.dropna(axis=1, thresh = 250000)\n"
   ]
  },
  {
   "cell_type": "code",
   "execution_count": 16,
   "metadata": {
    "execution": {
     "iopub.execute_input": "2020-12-03T14:23:04.518180Z",
     "iopub.status.busy": "2020-12-03T14:23:04.516520Z",
     "iopub.status.idle": "2020-12-03T14:23:04.886935Z",
     "shell.execute_reply": "2020-12-03T14:23:04.887711Z"
    },
    "papermill": {
     "duration": 0.459387,
     "end_time": "2020-12-03T14:23:04.887922",
     "exception": false,
     "start_time": "2020-12-03T14:23:04.428535",
     "status": "completed"
    },
    "tags": []
   },
   "outputs": [],
   "source": [
    "# Removing Unnecessary columsn for traing data\n",
    "X = train.drop(['isFraud', 'TransactionID'], axis=1)\n",
    "y = train.isFraud\n",
    "\n",
    "# For saving memory\n",
    "del train"
   ]
  },
  {
   "cell_type": "code",
   "execution_count": 17,
   "metadata": {
    "execution": {
     "iopub.execute_input": "2020-12-03T14:23:04.987967Z",
     "iopub.status.busy": "2020-12-03T14:23:04.987107Z",
     "iopub.status.idle": "2020-12-03T14:23:04.991189Z",
     "shell.execute_reply": "2020-12-03T14:23:04.991912Z"
    },
    "papermill": {
     "duration": 0.050422,
     "end_time": "2020-12-03T14:23:04.992104",
     "exception": false,
     "start_time": "2020-12-03T14:23:04.941682",
     "status": "completed"
    },
    "tags": []
   },
   "outputs": [],
   "source": [
    "# Custom Loss Function\n",
    "def log_loss_score(actual, predicted,  eps=1e-15):\n",
    "    p1 = actual * np.log(predicted+eps)\n",
    "    p0 = (1-actual) * np.log(1-predicted+eps)\n",
    "    loss = p0 + p1\n",
    "\n",
    "    return -loss.mean()"
   ]
  },
  {
   "cell_type": "code",
   "execution_count": 18,
   "metadata": {
    "execution": {
     "iopub.execute_input": "2020-12-03T14:23:05.076464Z",
     "iopub.status.busy": "2020-12-03T14:23:05.073417Z",
     "iopub.status.idle": "2020-12-03T14:23:05.964241Z",
     "shell.execute_reply": "2020-12-03T14:23:05.963567Z"
    },
    "papermill": {
     "duration": 0.936626,
     "end_time": "2020-12-03T14:23:05.964436",
     "exception": false,
     "start_time": "2020-12-03T14:23:05.027810",
     "status": "completed"
    },
    "tags": []
   },
   "outputs": [],
   "source": [
    "# Filling Nan values with -1\n",
    "X = X.fillna(-1)"
   ]
  },
  {
   "cell_type": "code",
   "execution_count": 19,
   "metadata": {
    "execution": {
     "iopub.execute_input": "2020-12-03T14:23:06.063099Z",
     "iopub.status.busy": "2020-12-03T14:23:06.062057Z",
     "iopub.status.idle": "2020-12-03T14:31:00.335190Z",
     "shell.execute_reply": "2020-12-03T14:31:00.336330Z"
    },
    "papermill": {
     "duration": 474.339173,
     "end_time": "2020-12-03T14:31:00.336557",
     "exception": false,
     "start_time": "2020-12-03T14:23:05.997384",
     "status": "completed"
    },
    "tags": []
   },
   "outputs": [
    {
     "name": "stdout",
     "output_type": "stream",
     "text": [
      "## SEED :  0\n",
      "FOLDS :  0\n",
      "Device used : cuda\n",
      "epoch 0  | loss: 0.1413  | train_auc: 0.76303 | valid_auc: 0.77069 |  0:00:07s\n",
      "epoch 1  | loss: 0.10511 | train_auc: 0.80874 | valid_auc: 0.78537 |  0:00:14s\n",
      "epoch 2  | loss: 0.09985 | train_auc: 0.8248  | valid_auc: 0.75022 |  0:00:20s\n",
      "epoch 3  | loss: 0.09529 | train_auc: 0.84058 | valid_auc: 0.76451 |  0:00:26s\n",
      "epoch 4  | loss: 0.09235 | train_auc: 0.84593 | valid_auc: 0.81941 |  0:00:32s\n",
      "Stop training because you reached max_epochs = 5 with best_epoch = 4 and best_valid_auc = 0.81941\n",
      "Best weights from best epoch are automatically used!\n",
      "Successfully saved model at tabnet_fold0_0.zip\n",
      "validation fold 0 : 1.0225861273764274, roc AUC Score: 0.5745969338437263\n",
      "FOLDS :  1\n",
      "Device used : cuda\n",
      "epoch 0  | loss: 0.13073 | train_auc: 0.80456 | valid_auc: 0.82225 |  0:00:12s\n",
      "epoch 1  | loss: 0.10394 | train_auc: 0.82462 | valid_auc: 0.82495 |  0:00:23s\n",
      "epoch 2  | loss: 0.09838 | train_auc: 0.85278 | valid_auc: 0.8306  |  0:00:35s\n",
      "epoch 3  | loss: 0.09445 | train_auc: 0.84765 | valid_auc: 0.80088 |  0:00:46s\n",
      "epoch 4  | loss: 0.09248 | train_auc: 0.8784  | valid_auc: 0.82193 |  0:00:57s\n",
      "Stop training because you reached max_epochs = 5 with best_epoch = 2 and best_valid_auc = 0.8306\n",
      "Best weights from best epoch are automatically used!\n",
      "Successfully saved model at tabnet_fold1_0.zip\n",
      "validation fold 1 : 1.519140475433276, roc AUC Score: 0.6108190053110312\n",
      "FOLDS :  2\n",
      "Device used : cuda\n",
      "epoch 0  | loss: 0.13412 | train_auc: 0.82743 | valid_auc: 0.81367 |  0:00:17s\n",
      "epoch 1  | loss: 0.10978 | train_auc: 0.85516 | valid_auc: 0.83106 |  0:00:33s\n",
      "epoch 2  | loss: 0.10497 | train_auc: 0.86188 | valid_auc: 0.83623 |  0:00:50s\n",
      "epoch 3  | loss: 0.1027  | train_auc: 0.87363 | valid_auc: 0.83504 |  0:01:07s\n",
      "epoch 4  | loss: 0.10076 | train_auc: 0.87067 | valid_auc: 0.82788 |  0:01:24s\n",
      "Stop training because you reached max_epochs = 5 with best_epoch = 2 and best_valid_auc = 0.83623\n",
      "Best weights from best epoch are automatically used!\n",
      "Successfully saved model at tabnet_fold2_0.zip\n",
      "validation fold 2 : 1.1369866344199133, roc AUC Score: 0.5773169974269974\n",
      "FOLDS :  3\n",
      "Device used : cuda\n",
      "epoch 0  | loss: 0.13008 | train_auc: 0.83508 | valid_auc: 0.82714 |  0:00:21s\n",
      "epoch 1  | loss: 0.11165 | train_auc: 0.84455 | valid_auc: 0.83664 |  0:00:44s\n",
      "epoch 2  | loss: 0.10826 | train_auc: 0.86368 | valid_auc: 0.84318 |  0:01:05s\n",
      "epoch 3  | loss: 0.10658 | train_auc: 0.86459 | valid_auc: 0.85095 |  0:01:27s\n",
      "epoch 4  | loss: 0.10434 | train_auc: 0.86379 | valid_auc: 0.83848 |  0:01:49s\n",
      "Stop training because you reached max_epochs = 5 with best_epoch = 3 and best_valid_auc = 0.85095\n",
      "Best weights from best epoch are automatically used!\n",
      "Successfully saved model at tabnet_fold3_0.zip\n",
      "validation fold 3 : 1.08434836430788, roc AUC Score: 0.6126568798215806\n",
      "FOLDS :  4\n",
      "Device used : cuda\n",
      "epoch 0  | loss: 0.12912 | train_auc: 0.8436  | valid_auc: 0.823   |  0:00:27s\n",
      "epoch 1  | loss: 0.11133 | train_auc: 0.85888 | valid_auc: 0.84698 |  0:00:53s\n",
      "epoch 2  | loss: 0.108   | train_auc: 0.85103 | valid_auc: 0.82666 |  0:01:20s\n",
      "epoch 3  | loss: 0.10503 | train_auc: 0.84868 | valid_auc: 0.84385 |  0:01:47s\n",
      "epoch 4  | loss: 0.10232 | train_auc: 0.82844 | valid_auc: 0.83795 |  0:02:13s\n",
      "Stop training because you reached max_epochs = 5 with best_epoch = 1 and best_valid_auc = 0.84698\n",
      "Best weights from best epoch are automatically used!\n",
      "Successfully saved model at tabnet_fold4_0.zip\n",
      "validation fold 4 : 1.0632930562630667, roc AUC Score: 0.5964544178389837\n"
     ]
    }
   ],
   "source": [
    "# Training model with kfold strategy\n",
    "from pytorch_tabnet.tab_model import TabNetClassifier\n",
    "import torch\n",
    "from sklearn.metrics import roc_auc_score\n",
    "from sklearn.model_selection import TimeSeriesSplit\n",
    "strategy = \"KFOLD\"\n",
    "num_ensembling = 1\n",
    "device = 'cuda'\n",
    "EPOCHS = 5\n",
    "SPLITS = 5\n",
    "save_name = 'tabnet'\n",
    "if strategy == \"KFOLD\":\n",
    "    oof_preds_all = []\n",
    "    oof_targets_all = []\n",
    "    scores_all =  []\n",
    "    scores_auc_all= []\n",
    "    for seed in range(num_ensembling):\n",
    "        print(\"## SEED : \", seed)\n",
    "        skf = TimeSeriesSplit(n_splits=SPLITS)\n",
    "        oof_preds = []\n",
    "        oof_targets = []\n",
    "        scores = []\n",
    "        scores_auc = []\n",
    "        for j, (train_idx, val_idx) in enumerate(skf.split(X, y)):\n",
    "            print(\"FOLDS : \", j)\n",
    "\n",
    "            X_train = torch.tensor(X.iloc[train_idx].values)\n",
    "            y_train = torch.tensor(y[train_idx].values)\n",
    "            X_val, y_val = torch.tensor(X.iloc[val_idx].values), torch.tensor(y[val_idx].values)\n",
    "            model = TabNetClassifier(n_d=8, n_a=8, n_steps=1, gamma=1.3,\n",
    "                                     lambda_sparse=0,optimizer_fn=torch.optim.Adam,\n",
    "                                   optimizer_params=dict(lr=2e-2, weight_decay=1e-5),\n",
    "                                     mask_type='entmax', device_name=device, output_dim=1,\n",
    "                                     scheduler_params=dict(milestones=[100,150], gamma=0.9), \n",
    "                                     scheduler_fn=torch.optim.lr_scheduler.MultiStepLR)\n",
    "            #'sparsemax'\n",
    "            \n",
    "            model.fit(X_train=X_train, y_train=y_train,  eval_set=[(X_train, y_train), (X_val, y_val)],max_epochs=EPOCHS,\n",
    "                      patience=20, batch_size=1024, virtual_batch_size=128, eval_name=['train', 'valid'],)\n",
    "\n",
    "            preds = model.predict(X_val)\n",
    "            score = log_loss_score(y_val, preds)\n",
    "            name = save_name + f\"_fold{j}_{seed}\"\n",
    "            model.save_model(name)\n",
    "            ## save oof to compute the CV later\n",
    "            oof_preds.append(preds)\n",
    "            oof_targets.append(y_val)\n",
    "            scores.append(score)\n",
    "            roc_ = roc_auc_score(y_val,preds)\n",
    "            scores_auc.append(roc_)\n",
    "            print(f\"validation fold {j} : {score}, roc AUC Score: {roc_}\")\n",
    "        oof_preds_all.append(np.concatenate(oof_preds))\n",
    "        \n",
    "        oof_targets_all.append(np.concatenate(oof_targets))\n",
    "        scores_all.append(np.array(scores))\n",
    "        scores_auc_all.append(np.array(scores_auc))"
   ]
  },
  {
   "cell_type": "code",
   "execution_count": 20,
   "metadata": {
    "execution": {
     "iopub.execute_input": "2020-12-03T14:31:00.415512Z",
     "iopub.status.busy": "2020-12-03T14:31:00.414159Z",
     "iopub.status.idle": "2020-12-03T14:31:12.124309Z",
     "shell.execute_reply": "2020-12-03T14:31:12.123635Z"
    },
    "papermill": {
     "duration": 11.752366,
     "end_time": "2020-12-03T14:31:12.124415",
     "exception": false,
     "start_time": "2020-12-03T14:31:00.372049",
     "status": "completed"
    },
    "tags": []
   },
   "outputs": [],
   "source": [
    "# Prediction on test set\n",
    "X_test = test[X.columns].fillna(-1)\n",
    "X_test = torch.tensor(X_test.values)\n",
    "preds = model.predict_proba(X_test)\n",
    "\n",
    "sub = pd.DataFrame({'TransactionID': test['TransactionID'].values.tolist(),\n",
    "                    'isFraud': preds[:,1].tolist()\n",
    "                   })\n",
    "\n",
    "sub.to_csv('submission.csv', index=False)"
   ]
  },
  {
   "cell_type": "code",
   "execution_count": null,
   "metadata": {
    "papermill": {
     "duration": 0.038622,
     "end_time": "2020-12-03T14:31:12.205038",
     "exception": false,
     "start_time": "2020-12-03T14:31:12.166416",
     "status": "completed"
    },
    "tags": []
   },
   "outputs": [],
   "source": []
  }
 ],
 "metadata": {
  "kernelspec": {
   "display_name": "Python 3",
   "language": "python",
   "name": "python3"
  },
  "language_info": {
   "codemirror_mode": {
    "name": "ipython",
    "version": 3
   },
   "file_extension": ".py",
   "mimetype": "text/x-python",
   "name": "python",
   "nbconvert_exporter": "python",
   "pygments_lexer": "ipython3",
   "version": "3.7.6"
  },
  "papermill": {
   "duration": 653.767923,
   "end_time": "2020-12-03T14:31:12.752939",
   "environment_variables": {},
   "exception": null,
   "input_path": "__notebook__.ipynb",
   "output_path": "__notebook__.ipynb",
   "parameters": {},
   "start_time": "2020-12-03T14:20:18.985016",
   "version": "2.1.0"
  }
 },
 "nbformat": 4,
 "nbformat_minor": 4
}
