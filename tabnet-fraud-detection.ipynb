{
 "cells": [
  {
   "cell_type": "code",
   "execution_count": null,
   "metadata": {
    "execution": {
     "iopub.execute_input": "2020-12-03T14:20:23.198064Z",
     "iopub.status.busy": "2020-12-03T14:20:23.197201Z",
     "iopub.status.idle": "2020-12-03T14:20:34.031100Z",
     "shell.execute_reply": "2020-12-03T14:20:34.030396Z"
    },
    "papermill": {
     "duration": 10.857723,
     "end_time": "2020-12-03T14:20:34.031357",
     "exception": false,
     "start_time": "2020-12-03T14:20:23.173634",
     "status": "completed"
    },
    "tags": []
   },
   "outputs": [],
   "source": []
  },
  {
   "cell_type": "code",
   "execution_count": 9,
   "metadata": {
    "_cell_guid": "b1076dfc-b9ad-4769-8c92-a6c4dae69d19",
    "_uuid": "8f2839f25d086af736a60e9eeb907d3b93b6e0e5",
    "execution": {
     "iopub.execute_input": "2020-12-03T14:20:34.085560Z",
     "iopub.status.busy": "2020-12-03T14:20:34.084611Z",
     "iopub.status.idle": "2020-12-03T14:20:34.090101Z",
     "shell.execute_reply": "2020-12-03T14:20:34.089556Z"
    },
    "papermill": {
     "duration": 0.031901,
     "end_time": "2020-12-03T14:20:34.090209",
     "exception": false,
     "start_time": "2020-12-03T14:20:34.058308",
     "status": "completed"
    },
    "tags": []
   },
   "outputs": [],
   "source": [
    "# importing libraries\n",
    "import numpy as np\n",
    "import pandas as pd\n",
    "import os\n",
    "#for dirname, _, filenames in os.walk('/kaggle/input'):\n",
    "  #  for filename in filenames:\n",
    "       # print(os.path.join(dirname, filename))"
   ]
  },
  {
   "cell_type": "code",
   "execution_count": 10,
   "metadata": {
    "execution": {
     "iopub.execute_input": "2020-12-03T14:20:34.138313Z",
     "iopub.status.busy": "2020-12-03T14:20:34.137432Z",
     "iopub.status.idle": "2020-12-03T14:20:34.986956Z",
     "shell.execute_reply": "2020-12-03T14:20:34.986035Z"
    },
    "papermill": {
     "duration": 0.876462,
     "end_time": "2020-12-03T14:20:34.987072",
     "exception": false,
     "start_time": "2020-12-03T14:20:34.110610",
     "status": "completed"
    },
    "tags": []
   },
   "outputs": [],
   "source": [
    "# Libraries for pre-processing and evaluation\n",
    "import pandas as pd\n",
    "import numpy as np\n",
    "import matplotlib.pyplot as plt\n",
    "from sklearn.preprocessing import LabelEncoder\n",
    "from sklearn.metrics import accuracy_score\n",
    "from sklearn.metrics import mean_squared_error, roc_auc_score\n",
    "from sklearn.model_selection import KFold\n",
    "from sklearn.model_selection import cross_val_score\n",
    "# Training model with kfold strategy\n",
    "from pytorch_tabnet.tab_model import TabNetClassifier\n",
    "import torch\n",
    "from sklearn.metrics import roc_auc_score\n",
    "from sklearn.model_selection import TimeSeriesSplit"
   ]
  },
  {
   "cell_type": "markdown",
   "metadata": {
    "papermill": {
     "duration": 0.020218,
     "end_time": "2020-12-03T14:20:35.028214",
     "exception": false,
     "start_time": "2020-12-03T14:20:35.007996",
     "status": "completed"
    },
    "tags": []
   },
   "source": [
    "## Data loading"
   ]
  },
  {
   "cell_type": "code",
   "execution_count": 11,
   "metadata": {
    "execution": {
     "iopub.execute_input": "2020-12-03T14:20:35.074610Z",
     "iopub.status.busy": "2020-12-03T14:20:35.073983Z",
     "iopub.status.idle": "2020-12-03T14:21:07.969991Z",
     "shell.execute_reply": "2020-12-03T14:21:07.969037Z"
    },
    "papermill": {
     "duration": 32.921392,
     "end_time": "2020-12-03T14:21:07.970114",
     "exception": false,
     "start_time": "2020-12-03T14:20:35.048722",
     "status": "completed"
    },
    "tags": []
   },
   "outputs": [],
   "source": [
    "train_identity = pd.read_csv('ieee-fraud-detection/train_identity.csv')\n",
    "train_transaction = pd.read_csv('ieee-fraud-detection/train_transaction.csv')"
   ]
  },
  {
   "cell_type": "code",
   "execution_count": 12,
   "metadata": {
    "execution": {
     "iopub.execute_input": "2020-12-03T14:21:08.018058Z",
     "iopub.status.busy": "2020-12-03T14:21:08.017409Z",
     "iopub.status.idle": "2020-12-03T14:21:35.214031Z",
     "shell.execute_reply": "2020-12-03T14:21:35.213023Z"
    },
    "papermill": {
     "duration": 27.223239,
     "end_time": "2020-12-03T14:21:35.214156",
     "exception": false,
     "start_time": "2020-12-03T14:21:07.990917",
     "status": "completed"
    },
    "tags": []
   },
   "outputs": [],
   "source": [
    "test_identity = pd.read_csv('ieee-fraud-detection/test_identity.csv')\n",
    "test_transaction = pd.read_csv('ieee-fraud-detection/test_transaction.csv')"
   ]
  },
  {
   "cell_type": "code",
   "execution_count": 13,
   "metadata": {
    "execution": {
     "iopub.execute_input": "2020-12-03T14:21:35.264438Z",
     "iopub.status.busy": "2020-12-03T14:21:35.263753Z",
     "iopub.status.idle": "2020-12-03T14:21:35.268402Z",
     "shell.execute_reply": "2020-12-03T14:21:35.267809Z"
    },
    "papermill": {
     "duration": 0.032122,
     "end_time": "2020-12-03T14:21:35.268516",
     "exception": false,
     "start_time": "2020-12-03T14:21:35.236394",
     "status": "completed"
    },
    "tags": []
   },
   "outputs": [],
   "source": [
    "pd.set_option('display.max_columns', 500)\n",
    "pd.set_option('display.max_rows', 500)"
   ]
  },
  {
   "cell_type": "markdown",
   "metadata": {
    "papermill": {
     "duration": 0.020094,
     "end_time": "2020-12-03T14:21:35.311300",
     "exception": false,
     "start_time": "2020-12-03T14:21:35.291206",
     "status": "completed"
    },
    "tags": []
   },
   "source": [
    "## Feature engineering"
   ]
  },
  {
   "cell_type": "markdown",
   "metadata": {
    "papermill": {
     "duration": 0.019844,
     "end_time": "2020-12-03T14:21:35.351491",
     "exception": false,
     "start_time": "2020-12-03T14:21:35.331647",
     "status": "completed"
    },
    "tags": []
   },
   "source": [
    "# Merging transaction data with identity data"
   ]
  },
  {
   "cell_type": "code",
   "execution_count": 14,
   "metadata": {
    "execution": {
     "iopub.execute_input": "2020-12-03T14:21:35.407270Z",
     "iopub.status.busy": "2020-12-03T14:21:35.405632Z",
     "iopub.status.idle": "2020-12-03T14:21:49.359902Z",
     "shell.execute_reply": "2020-12-03T14:21:49.359362Z"
    },
    "papermill": {
     "duration": 13.988065,
     "end_time": "2020-12-03T14:21:49.360041",
     "exception": false,
     "start_time": "2020-12-03T14:21:35.371976",
     "status": "completed"
    },
    "tags": []
   },
   "outputs": [],
   "source": [
    "train = pd.merge(train_transaction,train_identity,on='TransactionID', how='left')\n",
    "test = pd.merge(test_transaction, test_identity, on='TransactionID', how='left')"
   ]
  },
  {
   "cell_type": "code",
   "execution_count": 15,
   "metadata": {
    "execution": {
     "iopub.execute_input": "2020-12-03T14:21:49.408038Z",
     "iopub.status.busy": "2020-12-03T14:21:49.407076Z",
     "iopub.status.idle": "2020-12-03T14:21:49.412469Z",
     "shell.execute_reply": "2020-12-03T14:21:49.413154Z"
    },
    "papermill": {
     "duration": 0.031975,
     "end_time": "2020-12-03T14:21:49.413311",
     "exception": false,
     "start_time": "2020-12-03T14:21:49.381336",
     "status": "completed"
    },
    "tags": []
   },
   "outputs": [
    {
     "name": "stdout",
     "output_type": "stream",
     "text": [
      "train dataset shape (590540, 434)\n",
      "test dataset shape (506691, 433)\n"
     ]
    }
   ],
   "source": [
    "print('train dataset shape', train.shape)\n",
    "print('test dataset shape', test.shape)"
   ]
  },
  {
   "cell_type": "code",
   "execution_count": 16,
   "metadata": {
    "execution": {
     "iopub.execute_input": "2020-12-03T14:21:49.536219Z",
     "iopub.status.busy": "2020-12-03T14:21:49.534101Z",
     "iopub.status.idle": "2020-12-03T14:21:49.536956Z",
     "shell.execute_reply": "2020-12-03T14:21:49.537459Z"
    },
    "papermill": {
     "duration": 0.102628,
     "end_time": "2020-12-03T14:21:49.537588",
     "exception": false,
     "start_time": "2020-12-03T14:21:49.434960",
     "status": "completed"
    },
    "tags": []
   },
   "outputs": [],
   "source": [
    "del train_identity, train_transaction, test_identity, test_transaction"
   ]
  },
  {
   "cell_type": "code",
   "execution_count": 17,
   "metadata": {
    "execution": {
     "iopub.execute_input": "2020-12-03T14:21:49.616186Z",
     "iopub.status.busy": "2020-12-03T14:21:49.614169Z",
     "iopub.status.idle": "2020-12-03T14:21:49.616880Z",
     "shell.execute_reply": "2020-12-03T14:21:49.617381Z"
    },
    "papermill": {
     "duration": 0.058817,
     "end_time": "2020-12-03T14:21:49.617503",
     "exception": false,
     "start_time": "2020-12-03T14:21:49.558686",
     "status": "completed"
    },
    "tags": []
   },
   "outputs": [],
   "source": [
    "# solving incosistent naming of columns\n",
    "\n",
    "for i in range(1,39):\n",
    "    if i < 10:\n",
    "          test.rename(columns = {\"id-0\"+str(i) : \"id_0\"+str(i)}, inplace=True)\n",
    "    else:\n",
    "          test.rename(columns = {\"id-\"+str(i) : \"id_\"+str(i)}, inplace = True)"
   ]
  },
  {
   "cell_type": "markdown",
   "metadata": {
    "papermill": {
     "duration": 0.022283,
     "end_time": "2020-12-03T14:21:49.662701",
     "exception": false,
     "start_time": "2020-12-03T14:21:49.640418",
     "status": "completed"
    },
    "tags": []
   },
   "source": [
    "### Droping columns having null values greater than 90%"
   ]
  },
  {
   "cell_type": "code",
   "execution_count": 18,
   "metadata": {
    "execution": {
     "iopub.execute_input": "2020-12-03T14:21:49.716386Z",
     "iopub.status.busy": "2020-12-03T14:21:49.715427Z",
     "iopub.status.idle": "2020-12-03T14:21:58.164876Z",
     "shell.execute_reply": "2020-12-03T14:21:58.164074Z"
    },
    "papermill": {
     "duration": 8.480301,
     "end_time": "2020-12-03T14:21:58.164989",
     "exception": false,
     "start_time": "2020-12-03T14:21:49.684688",
     "status": "completed"
    },
    "tags": []
   },
   "outputs": [],
   "source": [
    "cols_lotof_nulls = [c for c in train.columns if (train[c].isnull().sum() / train.shape[0])>0.90]\n",
    "cols_lotof_nulls_test = [c for c in test.columns if (test[c].isnull().sum() / test.shape[0])>0.90]\n",
    "\n",
    "\n",
    "cols_to_drop = list(set(cols_lotof_nulls+ cols_lotof_nulls_test))\n",
    "len(cols_to_drop)\n",
    "\n",
    "train = train.drop(cols_to_drop, axis=1)\n",
    "test = test.drop(cols_to_drop, axis=1)"
   ]
  },
  {
   "cell_type": "code",
   "execution_count": 19,
   "metadata": {
    "execution": {
     "iopub.execute_input": "2020-12-03T14:21:58.440936Z",
     "iopub.status.busy": "2020-12-03T14:21:58.291937Z",
     "iopub.status.idle": "2020-12-03T14:21:58.444421Z",
     "shell.execute_reply": "2020-12-03T14:21:58.444918Z"
    },
    "papermill": {
     "duration": 0.258145,
     "end_time": "2020-12-03T14:21:58.445089",
     "exception": false,
     "start_time": "2020-12-03T14:21:58.186944",
     "status": "completed"
    },
    "tags": []
   },
   "outputs": [
    {
     "data": {
      "text/plain": [
       "29"
      ]
     },
     "execution_count": 19,
     "metadata": {},
     "output_type": "execute_result"
    }
   ],
   "source": [
    "# taking categorical colums to give as paratmeter to TabNet classifier\n",
    "cat_cols = list(train.select_dtypes(['object']).columns)\n",
    "\n",
    "len(cat_cols)\n",
    "\n"
   ]
  },
  {
   "cell_type": "markdown",
   "metadata": {
    "papermill": {
     "duration": 0.023832,
     "end_time": "2020-12-03T14:21:58.490813",
     "exception": false,
     "start_time": "2020-12-03T14:21:58.466981",
     "status": "completed"
    },
    "tags": []
   },
   "source": [
    "## Encoding categorical variables"
   ]
  },
  {
   "cell_type": "code",
   "execution_count": 20,
   "metadata": {
    "execution": {
     "iopub.execute_input": "2020-12-03T14:21:58.544545Z",
     "iopub.status.busy": "2020-12-03T14:21:58.543474Z",
     "iopub.status.idle": "2020-12-03T14:22:59.038511Z",
     "shell.execute_reply": "2020-12-03T14:22:59.037218Z"
    },
    "papermill": {
     "duration": 60.525207,
     "end_time": "2020-12-03T14:22:59.038663",
     "exception": false,
     "start_time": "2020-12-03T14:21:58.513456",
     "status": "completed"
    },
    "tags": []
   },
   "outputs": [],
   "source": [
    "# Using Label encoder to convert categorical to numerical\n",
    "for col in cat_cols:\n",
    "  if col in train.columns:\n",
    "    le = LabelEncoder()\n",
    "    le.fit(list(train[col].astype(str).values) + list(test[col].astype(str).values))\n",
    "    train[col] = le.transform(list(train[col].astype('str').values))\n",
    "    test[col] = le.transform(list(test[col].astype('str').values))"
   ]
  },
  {
   "cell_type": "code",
   "execution_count": 21,
   "metadata": {
    "execution": {
     "iopub.execute_input": "2020-12-03T14:22:59.094664Z",
     "iopub.status.busy": "2020-12-03T14:22:59.093008Z",
     "iopub.status.idle": "2020-12-03T14:23:03.169207Z",
     "shell.execute_reply": "2020-12-03T14:23:03.168592Z"
    },
    "papermill": {
     "duration": 4.106312,
     "end_time": "2020-12-03T14:23:03.169319",
     "exception": false,
     "start_time": "2020-12-03T14:22:59.063007",
     "status": "completed"
    },
    "tags": []
   },
   "outputs": [],
   "source": [
    "# Replacing inf values if any\n",
    "train = train.replace([np.inf, -np.inf], np.nan)\n",
    "test = test.replace([np.inf, -np.inf], np.nan)"
   ]
  },
  {
   "cell_type": "code",
   "execution_count": 22,
   "metadata": {
    "execution": {
     "iopub.execute_input": "2020-12-03T14:23:03.226218Z",
     "iopub.status.busy": "2020-12-03T14:23:03.225268Z",
     "iopub.status.idle": "2020-12-03T14:23:04.402092Z",
     "shell.execute_reply": "2020-12-03T14:23:04.400895Z"
    },
    "papermill": {
     "duration": 1.209856,
     "end_time": "2020-12-03T14:23:04.402242",
     "exception": false,
     "start_time": "2020-12-03T14:23:03.192386",
     "status": "completed"
    },
    "tags": []
   },
   "outputs": [],
   "source": [
    "# Removing columns if they dont have atleast 100000 non-Nan values\n",
    "train = train.dropna(axis=1, thresh = 250000)\n"
   ]
  },
  {
   "cell_type": "code",
   "execution_count": 23,
   "metadata": {
    "execution": {
     "iopub.execute_input": "2020-12-03T14:23:04.518180Z",
     "iopub.status.busy": "2020-12-03T14:23:04.516520Z",
     "iopub.status.idle": "2020-12-03T14:23:04.886935Z",
     "shell.execute_reply": "2020-12-03T14:23:04.887711Z"
    },
    "papermill": {
     "duration": 0.459387,
     "end_time": "2020-12-03T14:23:04.887922",
     "exception": false,
     "start_time": "2020-12-03T14:23:04.428535",
     "status": "completed"
    },
    "tags": []
   },
   "outputs": [],
   "source": [
    "# Removing Unnecessary columsn for traing data\n",
    "X = train.drop(['isFraud', 'TransactionID'], axis=1)\n",
    "y = train.isFraud\n",
    "\n",
    "# For saving memory\n",
    "del train"
   ]
  },
  {
   "cell_type": "code",
   "execution_count": 24,
   "metadata": {
    "execution": {
     "iopub.execute_input": "2020-12-03T14:23:04.987967Z",
     "iopub.status.busy": "2020-12-03T14:23:04.987107Z",
     "iopub.status.idle": "2020-12-03T14:23:04.991189Z",
     "shell.execute_reply": "2020-12-03T14:23:04.991912Z"
    },
    "papermill": {
     "duration": 0.050422,
     "end_time": "2020-12-03T14:23:04.992104",
     "exception": false,
     "start_time": "2020-12-03T14:23:04.941682",
     "status": "completed"
    },
    "tags": []
   },
   "outputs": [],
   "source": [
    "# Custom Loss Function\n",
    "def log_loss_score(actual, predicted,  eps=1e-15):\n",
    "    p1 = actual * np.log(predicted+eps)\n",
    "    p0 = (1-actual) * np.log(1-predicted+eps)\n",
    "    loss = p0 + p1\n",
    "\n",
    "    return -loss.mean()"
   ]
  },
  {
   "cell_type": "code",
   "execution_count": 25,
   "metadata": {
    "execution": {
     "iopub.execute_input": "2020-12-03T14:23:05.076464Z",
     "iopub.status.busy": "2020-12-03T14:23:05.073417Z",
     "iopub.status.idle": "2020-12-03T14:23:05.964241Z",
     "shell.execute_reply": "2020-12-03T14:23:05.963567Z"
    },
    "papermill": {
     "duration": 0.936626,
     "end_time": "2020-12-03T14:23:05.964436",
     "exception": false,
     "start_time": "2020-12-03T14:23:05.027810",
     "status": "completed"
    },
    "tags": []
   },
   "outputs": [],
   "source": [
    "# Filling Nan values with -1\n",
    "X = X.fillna(-1)"
   ]
  },
  {
   "cell_type": "code",
   "execution_count": 26,
   "metadata": {
    "execution": {
     "iopub.execute_input": "2020-12-03T14:23:06.063099Z",
     "iopub.status.busy": "2020-12-03T14:23:06.062057Z",
     "iopub.status.idle": "2020-12-03T14:31:00.335190Z",
     "shell.execute_reply": "2020-12-03T14:31:00.336330Z"
    },
    "papermill": {
     "duration": 474.339173,
     "end_time": "2020-12-03T14:31:00.336557",
     "exception": false,
     "start_time": "2020-12-03T14:23:05.997384",
     "status": "completed"
    },
    "tags": []
   },
   "outputs": [
    {
     "name": "stdout",
     "output_type": "stream",
     "text": [
      "## SEED :  0\n",
      "FOLDS :  0\n",
      "epoch 0  | loss: 0.13938 | train_auc: 0.75592 | valid_auc: 0.76374 |  0:00:12s\n",
      "epoch 1  | loss: 0.1012  | train_auc: 0.79041 | valid_auc: 0.80027 |  0:00:24s\n",
      "epoch 2  | loss: 0.09606 | train_auc: 0.83253 | valid_auc: 0.80236 |  0:00:36s\n",
      "epoch 3  | loss: 0.0919  | train_auc: 0.85962 | valid_auc: 0.79806 |  0:00:48s\n",
      "epoch 4  | loss: 0.08893 | train_auc: 0.87118 | valid_auc: 0.81481 |  0:00:59s\n",
      "Stop training because you reached max_epochs = 5 with best_epoch = 4 and best_valid_auc = 0.81481\n"
     ]
    },
    {
     "name": "stderr",
     "output_type": "stream",
     "text": [
      "C:\\Users\\anant\\Wells Fargo\\ML Research Group\\2023\\Codes\\pytorch_tabnet\\callbacks.py:172: UserWarning: Best weights from best epoch are automatically used!\n",
      "  warnings.warn(wrn_msg)\n"
     ]
    },
    {
     "name": "stdout",
     "output_type": "stream",
     "text": [
      "Successfully saved model at tabnet_fold0_0.zip\n",
      "validation fold 0 : 1.0296045633913604, roc AUC Score: 0.5708433566383055\n",
      "FOLDS :  1\n"
     ]
    },
    {
     "name": "stderr",
     "output_type": "stream",
     "text": [
      "C:\\Users\\anant\\Wells Fargo\\ML Research Group\\2023\\Codes\\pytorch_tabnet\\abstract_model.py:80: UserWarning: Device used : cpu\n",
      "  warnings.warn(f\"Device used : {self.device}\")\n"
     ]
    },
    {
     "name": "stdout",
     "output_type": "stream",
     "text": [
      "epoch 0  | loss: 0.12903 | train_auc: 0.82183 | valid_auc: 0.82092 |  0:00:21s\n",
      "epoch 1  | loss: 0.10363 | train_auc: 0.85856 | valid_auc: 0.83447 |  0:00:42s\n",
      "epoch 2  | loss: 0.09863 | train_auc: 0.86628 | valid_auc: 0.8296  |  0:01:03s\n",
      "epoch 3  | loss: 0.09595 | train_auc: 0.87149 | valid_auc: 0.82421 |  0:01:23s\n",
      "epoch 4  | loss: 0.09457 | train_auc: 0.8763  | valid_auc: 0.81804 |  0:01:44s\n",
      "Stop training because you reached max_epochs = 5 with best_epoch = 1 and best_valid_auc = 0.83447\n"
     ]
    },
    {
     "name": "stderr",
     "output_type": "stream",
     "text": [
      "C:\\Users\\anant\\Wells Fargo\\ML Research Group\\2023\\Codes\\pytorch_tabnet\\callbacks.py:172: UserWarning: Best weights from best epoch are automatically used!\n",
      "  warnings.warn(wrn_msg)\n"
     ]
    },
    {
     "name": "stdout",
     "output_type": "stream",
     "text": [
      "Successfully saved model at tabnet_fold1_0.zip\n",
      "validation fold 1 : 1.2899885395455495, roc AUC Score: 0.5866869041404797\n",
      "FOLDS :  2\n"
     ]
    },
    {
     "name": "stderr",
     "output_type": "stream",
     "text": [
      "C:\\Users\\anant\\Wells Fargo\\ML Research Group\\2023\\Codes\\pytorch_tabnet\\abstract_model.py:80: UserWarning: Device used : cpu\n",
      "  warnings.warn(f\"Device used : {self.device}\")\n"
     ]
    },
    {
     "name": "stdout",
     "output_type": "stream",
     "text": [
      "epoch 0  | loss: 0.13276 | train_auc: 0.84615 | valid_auc: 0.82207 |  0:00:29s\n",
      "epoch 1  | loss: 0.11072 | train_auc: 0.85702 | valid_auc: 0.82515 |  0:01:00s\n",
      "epoch 2  | loss: 0.10635 | train_auc: 0.8689  | valid_auc: 0.84102 |  0:01:30s\n",
      "epoch 3  | loss: 0.10402 | train_auc: 0.87    | valid_auc: 0.84379 |  0:02:00s\n",
      "epoch 4  | loss: 0.10204 | train_auc: 0.86965 | valid_auc: 0.83049 |  0:02:30s\n",
      "Stop training because you reached max_epochs = 5 with best_epoch = 3 and best_valid_auc = 0.84379\n"
     ]
    },
    {
     "name": "stderr",
     "output_type": "stream",
     "text": [
      "C:\\Users\\anant\\Wells Fargo\\ML Research Group\\2023\\Codes\\pytorch_tabnet\\callbacks.py:172: UserWarning: Best weights from best epoch are automatically used!\n",
      "  warnings.warn(wrn_msg)\n"
     ]
    },
    {
     "name": "stdout",
     "output_type": "stream",
     "text": [
      "Successfully saved model at tabnet_fold2_0.zip\n",
      "validation fold 2 : 1.1443559922355917, roc AUC Score: 0.5689928145652403\n",
      "FOLDS :  3\n"
     ]
    },
    {
     "name": "stderr",
     "output_type": "stream",
     "text": [
      "C:\\Users\\anant\\Wells Fargo\\ML Research Group\\2023\\Codes\\pytorch_tabnet\\abstract_model.py:80: UserWarning: Device used : cpu\n",
      "  warnings.warn(f\"Device used : {self.device}\")\n"
     ]
    },
    {
     "name": "stdout",
     "output_type": "stream",
     "text": [
      "epoch 0  | loss: 0.1307  | train_auc: 0.81566 | valid_auc: 0.83588 |  0:00:37s\n",
      "epoch 1  | loss: 0.11048 | train_auc: 0.85699 | valid_auc: 0.8382  |  0:01:15s\n",
      "epoch 2  | loss: 0.10708 | train_auc: 0.86821 | valid_auc: 0.84486 |  0:01:53s\n",
      "epoch 3  | loss: 0.10482 | train_auc: 0.85705 | valid_auc: 0.85058 |  0:02:29s\n",
      "epoch 4  | loss: 0.1037  | train_auc: 0.87447 | valid_auc: 0.85093 |  0:03:08s\n",
      "Stop training because you reached max_epochs = 5 with best_epoch = 4 and best_valid_auc = 0.85093\n"
     ]
    },
    {
     "name": "stderr",
     "output_type": "stream",
     "text": [
      "C:\\Users\\anant\\Wells Fargo\\ML Research Group\\2023\\Codes\\pytorch_tabnet\\callbacks.py:172: UserWarning: Best weights from best epoch are automatically used!\n",
      "  warnings.warn(wrn_msg)\n"
     ]
    },
    {
     "name": "stdout",
     "output_type": "stream",
     "text": [
      "Successfully saved model at tabnet_fold3_0.zip\n",
      "validation fold 3 : 1.1036490633489533, roc AUC Score: 0.6394836936440157\n",
      "FOLDS :  4\n"
     ]
    },
    {
     "name": "stderr",
     "output_type": "stream",
     "text": [
      "C:\\Users\\anant\\Wells Fargo\\ML Research Group\\2023\\Codes\\pytorch_tabnet\\abstract_model.py:80: UserWarning: Device used : cpu\n",
      "  warnings.warn(f\"Device used : {self.device}\")\n"
     ]
    },
    {
     "name": "stdout",
     "output_type": "stream",
     "text": [
      "epoch 0  | loss: 0.12847 | train_auc: 0.83343 | valid_auc: 0.81673 |  0:00:45s\n",
      "epoch 1  | loss: 0.11207 | train_auc: 0.8563  | valid_auc: 0.82351 |  0:01:29s\n",
      "epoch 2  | loss: 0.10814 | train_auc: 0.86101 | valid_auc: 0.8495  |  0:02:15s\n",
      "epoch 3  | loss: 0.10473 | train_auc: 0.85466 | valid_auc: 0.84302 |  0:03:03s\n",
      "epoch 4  | loss: 0.10266 | train_auc: 0.82889 | valid_auc: 0.82883 |  0:03:50s\n",
      "Stop training because you reached max_epochs = 5 with best_epoch = 2 and best_valid_auc = 0.8495\n"
     ]
    },
    {
     "name": "stderr",
     "output_type": "stream",
     "text": [
      "C:\\Users\\anant\\Wells Fargo\\ML Research Group\\2023\\Codes\\pytorch_tabnet\\callbacks.py:172: UserWarning: Best weights from best epoch are automatically used!\n",
      "  warnings.warn(wrn_msg)\n"
     ]
    },
    {
     "name": "stdout",
     "output_type": "stream",
     "text": [
      "Successfully saved model at tabnet_fold4_0.zip\n",
      "validation fold 4 : 1.0846992861086213, roc AUC Score: 0.5989719926116498\n"
     ]
    }
   ],
   "source": [
    "# Training model with kfold strategy\n",
    "from pytorch_tabnet.tab_model import TabNetClassifier\n",
    "import torch\n",
    "from sklearn.metrics import roc_auc_score\n",
    "from sklearn.model_selection import TimeSeriesSplit\n",
    "strategy = \"KFOLD\"\n",
    "num_ensembling = 1\n",
    "device = 'cuda'\n",
    "EPOCHS = 5\n",
    "SPLITS = 5\n",
    "save_name = 'tabnet'\n",
    "if strategy == \"KFOLD\":\n",
    "    oof_preds_all = []\n",
    "    oof_targets_all = []\n",
    "    scores_all =  []\n",
    "    scores_auc_all= []\n",
    "    for seed in range(num_ensembling):\n",
    "        print(\"## SEED : \", seed)\n",
    "        skf = TimeSeriesSplit(n_splits=SPLITS)\n",
    "        oof_preds = []\n",
    "        oof_targets = []\n",
    "        scores = []\n",
    "        scores_auc = []\n",
    "        for j, (train_idx, val_idx) in enumerate(skf.split(X, y)):\n",
    "            print(\"FOLDS : \", j)\n",
    "\n",
    "            X_train = X.iloc[train_idx].values\n",
    "            y_train = y[train_idx].values\n",
    "            X_val, y_val = X.iloc[val_idx].values, y[val_idx].values\n",
    "            model = TabNetClassifier(n_d=8, n_a=8, n_steps=1, gamma=1.3,\n",
    "                                     lambda_sparse=0,optimizer_fn=torch.optim.Adam,\n",
    "                                   optimizer_params=dict(lr=2e-2, weight_decay=1e-5),\n",
    "                                     mask_type='entmax', device_name=device, output_dim=1,\n",
    "                                     scheduler_params=dict(milestones=[100,150], gamma=0.9), \n",
    "                                     scheduler_fn=torch.optim.lr_scheduler.MultiStepLR)\n",
    "            #'sparsemax'\n",
    "            \n",
    "            model.fit(X_train=X_train, y_train=y_train,  eval_set=[(X_train, y_train), (X_val, y_val)],max_epochs=EPOCHS,\n",
    "                      patience=20, batch_size=1024, virtual_batch_size=128, eval_name=['train', 'valid'],)\n",
    "\n",
    "            preds = model.predict(X_val)\n",
    "            score = log_loss_score(y_val, preds)\n",
    "            name = save_name + f\"_fold{j}_{seed}\"\n",
    "            model.save_model(name)\n",
    "            ## save oof to compute the CV later\n",
    "            oof_preds.append(preds)\n",
    "            oof_targets.append(y_val)\n",
    "            scores.append(score)\n",
    "            roc_ = roc_auc_score(y_val,preds)\n",
    "            scores_auc.append(roc_)\n",
    "            print(f\"validation fold {j} : {score}, roc AUC Score: {roc_}\")\n",
    "        oof_preds_all.append(np.concatenate(oof_preds))\n",
    "        \n",
    "        oof_targets_all.append(np.concatenate(oof_targets))\n",
    "        scores_all.append(np.array(scores))\n",
    "        scores_auc_all.append(np.array(scores_auc))"
   ]
  },
  {
   "cell_type": "code",
   "execution_count": 27,
   "metadata": {
    "execution": {
     "iopub.execute_input": "2020-12-03T14:31:00.415512Z",
     "iopub.status.busy": "2020-12-03T14:31:00.414159Z",
     "iopub.status.idle": "2020-12-03T14:31:12.124309Z",
     "shell.execute_reply": "2020-12-03T14:31:12.123635Z"
    },
    "papermill": {
     "duration": 11.752366,
     "end_time": "2020-12-03T14:31:12.124415",
     "exception": false,
     "start_time": "2020-12-03T14:31:00.372049",
     "status": "completed"
    },
    "tags": []
   },
   "outputs": [],
   "source": [
    "# Prediction on test set\n",
    "X_test = test[X.columns].fillna(-1)\n",
    "X_test = torch.tensor(X_test.values)\n",
    "preds = model.predict_proba(X_test)\n",
    "\n",
    "sub = pd.DataFrame({'TransactionID': test['TransactionID'].values.tolist(),\n",
    "                    'isFraud': preds[:,1].tolist()\n",
    "                   })"
   ]
  },
  {
   "cell_type": "code",
   "execution_count": 28,
   "metadata": {},
   "outputs": [
    {
     "data": {
      "text/plain": [
       "array([0.00000000e+00, 0.00000000e+00, 1.95587054e-07, 0.00000000e+00,\n",
       "       1.07638695e-02, 1.05028520e-06, 0.00000000e+00, 5.22111197e-07,\n",
       "       4.26645772e-07, 3.16344430e-06, 1.77654590e-07, 3.21108560e-06,\n",
       "       3.04825612e-08, 1.71587290e-04, 5.26687065e-02, 0.00000000e+00,\n",
       "       0.00000000e+00, 4.42600410e-05, 1.15665820e-05, 0.00000000e+00,\n",
       "       3.44831423e-03, 0.00000000e+00, 0.00000000e+00, 1.28147277e-05,\n",
       "       0.00000000e+00, 0.00000000e+00, 2.28635172e-06, 0.00000000e+00,\n",
       "       8.07334575e-03, 2.76681241e-08, 0.00000000e+00, 4.81156420e-06,\n",
       "       0.00000000e+00, 8.30993791e-07, 1.72268855e-10, 1.33459261e-04,\n",
       "       6.27422436e-03, 1.04510812e-05, 8.30315984e-08, 0.00000000e+00,\n",
       "       5.26320089e-04, 8.85879947e-06, 0.00000000e+00, 0.00000000e+00,\n",
       "       2.49937162e-05, 2.12389005e-05, 6.65320913e-07, 1.38577235e-07,\n",
       "       2.99209619e-08, 0.00000000e+00, 0.00000000e+00, 7.03834398e-06,\n",
       "       1.98153646e-08, 2.10254357e-07, 1.43823434e-06, 9.19062559e-03,\n",
       "       1.18150630e-08, 8.95944706e-08, 6.40993582e-02, 1.11528449e-07,\n",
       "       0.00000000e+00, 2.35824737e-04, 1.08775170e-05, 1.09368743e-04,\n",
       "       3.69136557e-08, 5.41802058e-04, 6.78667818e-09, 1.08788990e-09,\n",
       "       7.09300857e-03, 0.00000000e+00, 2.52061246e-05, 2.38559150e-02,\n",
       "       0.00000000e+00, 1.02309153e-02, 3.35535767e-07, 7.47986498e-07,\n",
       "       3.26379092e-10, 0.00000000e+00, 0.00000000e+00, 1.84741067e-03,\n",
       "       9.18788714e-06, 0.00000000e+00, 3.93766999e-06, 2.63602461e-02,\n",
       "       0.00000000e+00, 8.37099186e-02, 1.12788003e-05, 4.38128931e-09,\n",
       "       5.06012594e-02, 3.10170966e-12, 1.06030086e-06, 7.54209432e-07,\n",
       "       1.18774442e-06, 0.00000000e+00, 2.71351548e-08, 2.05493466e-09,\n",
       "       0.00000000e+00, 1.74169384e-02, 3.88587711e-03, 9.09771812e-08,\n",
       "       9.52576531e-04, 2.82626533e-07, 1.31496220e-08, 0.00000000e+00,\n",
       "       5.18450975e-03, 0.00000000e+00, 1.78300964e-05, 2.91699454e-05,\n",
       "       3.70048598e-02, 7.70695552e-02, 0.00000000e+00, 5.90052044e-08,\n",
       "       1.09720811e-01, 1.03989827e-02, 0.00000000e+00, 0.00000000e+00,\n",
       "       0.00000000e+00, 0.00000000e+00, 2.64873461e-07, 3.69464443e-09,\n",
       "       2.34833230e-08, 0.00000000e+00, 4.05754763e-06, 6.35000048e-08,\n",
       "       1.87717336e-07, 1.19009910e-08, 1.14552780e-04, 7.73038846e-03,\n",
       "       1.28154229e-07, 7.21745445e-06, 8.25730181e-09, 3.33777295e-04,\n",
       "       0.00000000e+00, 3.57821065e-04, 2.86433438e-12, 2.48116002e-07,\n",
       "       4.92491787e-06, 0.00000000e+00, 9.40613464e-11, 3.30985548e-10,\n",
       "       1.69968922e-07, 2.62067252e-08, 4.04968340e-06, 2.45875651e-06,\n",
       "       0.00000000e+00, 1.39690357e-02, 1.74719491e-10, 1.95978321e-05,\n",
       "       9.13839006e-08, 3.32355262e-06, 0.00000000e+00, 4.45275859e-09,\n",
       "       0.00000000e+00, 2.40370029e-05, 7.39732551e-09, 2.20711574e-04,\n",
       "       0.00000000e+00, 3.77326848e-06, 0.00000000e+00, 2.74608035e-09,\n",
       "       1.27607033e-04, 1.45627071e-06, 5.27660644e-07, 0.00000000e+00,\n",
       "       0.00000000e+00, 4.60698302e-10, 7.67079051e-05, 4.51142672e-07,\n",
       "       1.44908326e-05, 8.26446592e-08, 0.00000000e+00, 0.00000000e+00,\n",
       "       0.00000000e+00, 1.47268008e-06, 0.00000000e+00, 1.28935224e-07,\n",
       "       0.00000000e+00, 5.66824390e-05, 1.40313849e-06, 0.00000000e+00,\n",
       "       2.18947562e-05, 0.00000000e+00, 1.32337131e-05, 1.89253130e-06,\n",
       "       4.37207705e-05, 0.00000000e+00, 0.00000000e+00, 1.99330875e-05,\n",
       "       1.71317304e-04, 4.02725739e-03, 0.00000000e+00, 3.13753411e-06,\n",
       "       6.09566185e-06, 3.73210647e-05, 3.32056588e-07, 0.00000000e+00,\n",
       "       6.69408884e-11, 0.00000000e+00, 1.81958496e-07, 0.00000000e+00,\n",
       "       0.00000000e+00, 6.39856092e-07, 2.35557820e-07, 0.00000000e+00,\n",
       "       2.00295017e-05, 0.00000000e+00, 1.17551704e-01, 0.00000000e+00,\n",
       "       1.79545749e-11, 3.24756610e-06, 4.47017287e-04, 4.59838585e-10,\n",
       "       0.00000000e+00, 1.22943867e-10, 2.64514701e-08, 0.00000000e+00,\n",
       "       0.00000000e+00, 0.00000000e+00, 0.00000000e+00, 1.03891665e-07,\n",
       "       0.00000000e+00, 1.35243443e-06, 1.37431135e-05, 0.00000000e+00,\n",
       "       0.00000000e+00, 0.00000000e+00, 1.72462189e-07, 1.89085946e-01,\n",
       "       2.12103041e-03, 0.00000000e+00, 0.00000000e+00, 4.03704692e-07,\n",
       "       1.97223819e-06, 9.37285235e-11, 1.43143951e-08, 0.00000000e+00,\n",
       "       0.00000000e+00, 4.14816191e-02, 0.00000000e+00])"
      ]
     },
     "execution_count": 28,
     "metadata": {},
     "output_type": "execute_result"
    }
   ],
   "source": [
    "model.feature_importances_"
   ]
  },
  {
   "cell_type": "code",
   "execution_count": null,
   "metadata": {},
   "outputs": [],
   "source": []
  }
 ],
 "metadata": {
  "kernelspec": {
   "display_name": "Python 3 (ipykernel)",
   "language": "python",
   "name": "python3"
  },
  "language_info": {
   "codemirror_mode": {
    "name": "ipython",
    "version": 3
   },
   "file_extension": ".py",
   "mimetype": "text/x-python",
   "name": "python",
   "nbconvert_exporter": "python",
   "pygments_lexer": "ipython3",
   "version": "3.9.7"
  },
  "papermill": {
   "duration": 653.767923,
   "end_time": "2020-12-03T14:31:12.752939",
   "environment_variables": {},
   "exception": null,
   "input_path": "__notebook__.ipynb",
   "output_path": "__notebook__.ipynb",
   "parameters": {},
   "start_time": "2020-12-03T14:20:18.985016",
   "version": "2.1.0"
  }
 },
 "nbformat": 4,
 "nbformat_minor": 4
}
